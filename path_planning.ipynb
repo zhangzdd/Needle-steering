{
 "cells": [
  {
   "cell_type": "code",
   "execution_count": 44,
   "source": [
    "import numpy as np\n",
    "import random\n",
    "w_0 = [random.uniform(0,1)-0.5 for i in range(0,10)]\n",
    "k = [random.uniform(0,1) * 0.01 for i in range(0,10)]\n",
    "pos = 3\n",
    "def square_loss(slope):\n",
    "    S = 0\n",
    "    n = 10\n",
    "    l = 2\n",
    "    coefficient_mat = np.array([[6,0,0,0],[6*l,2,0,0],[3*l**2,2*l,1,0],[l**3,l**2,l,1]])  \n",
    "    i_coefficient_mat = np.linalg.inv(coefficient_mat)\n",
    "    curve_coefficient = []\n",
    "    for i in range(n-1,-1,-1):\n",
    "        if i == n-1:\n",
    "            #print(\"Start from last element\")\n",
    "            coe_at_i = np.dot(i_coefficient_mat,np.array([k[i]*(pos-w_0[i]),\n",
    "                                0,\n",
    "                                slope,\n",
    "                                pos]).T)\n",
    "            curve_coefficient.append(coe_at_i)\n",
    "            #print(curve_coefficient)\n",
    "        else:\n",
    "            #print(\"Iteration at {}\".format(i))\n",
    "            a,b,c,d = curve_coefficient[-1]\n",
    "            cumulated_tissue_force = sum([ k[j]*(d - w_0[i]) for j in range(i,n) ])\n",
    "            coe_at_i = np.dot(i_coefficient_mat,np.array([cumulated_tissue_force,\n",
    "                                2*b,\n",
    "                                c,\n",
    "                                d]).T)\n",
    "            curve_coefficient.append(coe_at_i)\n",
    "    \n",
    "    for i,coe in enumerate(reversed(curve_coefficient)):\n",
    "        a,b,c,d = coe\n",
    "        x = np.linspace(0,l,num=10) + l*i\n",
    "        element_func = a*(x - l*i)**3 + b*(x-l*i)**2 + c*(x-l*i) +d\n",
    "        #slope_func = 3*a*(x - l*i)**2 + 2*b*(x-l*i) + c\n",
    "        S = S + d**2 + (a*l**3+b*l**2+c*l+d)**2 + c**2 + (3*a*l**2+2*b*l+c)**2\n",
    "    \n",
    "    return S\n",
    "    "
   ],
   "outputs": [],
   "metadata": {}
  },
  {
   "cell_type": "code",
   "execution_count": 45,
   "source": [
    "square_loss(0.29964)"
   ],
   "outputs": [
    {
     "output_type": "execute_result",
     "data": {
      "text/plain": [
       "878.8772340681772"
      ]
     },
     "metadata": {},
     "execution_count": 45
    }
   ],
   "metadata": {}
  },
  {
   "cell_type": "code",
   "execution_count": 49,
   "source": [
    "import matplotlib.pyplot as plt\n",
    "possible_slopes = np.linspace(-1,1,num=2000)\n",
    "S_list = [square_loss(slope) for slope in possible_slopes]\n",
    "plt.plot(possible_slopes,S_list)"
   ],
   "outputs": [
    {
     "output_type": "execute_result",
     "data": {
      "text/plain": [
       "[<matplotlib.lines.Line2D at 0x7ff163d47bd0>]"
      ]
     },
     "metadata": {},
     "execution_count": 49
    },
    {
     "output_type": "display_data",
     "data": {
      "image/png": "[encoded data removed]",
      "text/plain": [
       "<Figure size 432x288 with 1 Axes>"
      ]
     },
     "metadata": {
      "needs_background": "light"
     }
    }
   ],
   "metadata": {}
  },
  {
   "cell_type": "code",
   "execution_count": 47,
   "source": [
    "possible_slopes[np.argmin(S_list)]"
   ],
   "outputs": [
    {
     "output_type": "execute_result",
     "data": {
      "text/plain": [
       "0.2096048024012005"
      ]
     },
     "metadata": {},
     "execution_count": 47
    }
   ],
   "metadata": {}
  }
 ],
 "metadata": {
  "orig_nbformat": 4,
  "language_info": {
   "name": "python",
   "version": "3.7.4",
   "mimetype": "text/x-python",
   "codemirror_mode": {
    "name": "ipython",
    "version": 3
   },
   "pygments_lexer": "ipython3",
   "nbconvert_exporter": "python",
   "file_extension": ".py"
  },
  "kernelspec": {
   "name": "python3",
   "display_name": "Python 3.7.4 64-bit"
  },
  "interpreter": {
   "hash": "aee8b7b246df8f9039afb4144a1f6fd8d2ca17a180786b69acc140d282b71a49"
  }
 },
 "nbformat": 4,
 "nbformat_minor": 2
}